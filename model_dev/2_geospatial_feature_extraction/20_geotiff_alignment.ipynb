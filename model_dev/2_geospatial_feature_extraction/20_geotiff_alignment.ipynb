{
 "cells": [
  {
   "cell_type": "markdown",
   "metadata": {},
   "source": [
    "# 20_GeoTIFF Alignment\n",
    "This notebook ensures all raw GeoTIFF layers are spatially aligned to a consistent grid before feature extraction and modeling. Geophysical datasets (e.g., gravity, magnetics, radiometrics) often come in different:\n",
    "- CRS (Coordinate Reference Systems)\n",
    "- Spatial extent and resolution\n",
    "- Grid alignment\n",
    "\n",
    "To ensure reliable analysis and feature stacking, all input rasters must be reprojected to the same CRS, resolution, bounds, and pixel layout.\n",
    "\n",
    "## What This Notebook Does\n",
    "- Sets a common target grid:\n",
    "    - CRS: EPSG:3577 (Australian Albers, meters)\n",
    "    - Resolution: 250m\n",
    "    - Extent: Covers all of mainland Australia\n",
    "\n",
    "Aligns all .tif files in the /data/raw/ directory to this grid using rasterio.reproject.\n",
    "\n",
    "Outputs aligned rasters to /data/aligned/, ready for feature engineering and model input.\n",
    "\n",
    "Includes optional side-by-side visualization (original vs. aligned) for quality check.\n",
    "\n",
    "## Why need alignment\n",
    "Spatial misalignment between layers can lead to incorrect feature values at sampling points and inaccurate model predictions. Alignment is a critical preprocessing step to guarantee consistency across datasets."
   ]
  },
  {
   "cell_type": "code",
   "execution_count": null,
   "metadata": {},
   "outputs": [
    {
     "name": "stderr",
     "output_type": "stream",
     "text": [
      "Aligning rasters:   7%|▋         | 1/14 [00:40<08:51, 40.87s/it]"
     ]
    },
    {
     "name": "stdout",
     "output_type": "stream",
     "text": [
      "Aligned: gravity_cscba.tif\n"
     ]
    },
    {
     "name": "stderr",
     "output_type": "stream",
     "text": [
      "Aligning rasters:  14%|█▍        | 2/14 [01:20<08:01, 40.09s/it]"
     ]
    },
    {
     "name": "stdout",
     "output_type": "stream",
     "text": [
      "Aligned: gravity_cscba_1vd.tif\n"
     ]
    },
    {
     "name": "stderr",
     "output_type": "stream",
     "text": [
      "Aligning rasters:  21%|██▏       | 3/14 [01:42<05:52, 32.01s/it]"
     ]
    },
    {
     "name": "stdout",
     "output_type": "stream",
     "text": [
      "Aligned: gravity_iso_residual.tif\n"
     ]
    },
    {
     "name": "stderr",
     "output_type": "stream",
     "text": [
      "Aligning rasters:  29%|██▊       | 4/14 [03:15<09:20, 56.05s/it]"
     ]
    },
    {
     "name": "stdout",
     "output_type": "stream",
     "text": [
      "Aligned: mag_uc_12_16km.tif\n"
     ]
    },
    {
     "name": "stderr",
     "output_type": "stream",
     "text": [
      "Aligning rasters:  36%|███▌      | 5/14 [04:49<10:26, 69.63s/it]"
     ]
    },
    {
     "name": "stdout",
     "output_type": "stream",
     "text": [
      "Aligned: mag_uc_1_2km.tif\n"
     ]
    },
    {
     "name": "stderr",
     "output_type": "stream",
     "text": [
      "Aligning rasters:  43%|████▎     | 6/14 [06:22<10:21, 77.63s/it]"
     ]
    },
    {
     "name": "stdout",
     "output_type": "stream",
     "text": [
      "Aligned: mag_uc_2_4km.tif\n"
     ]
    },
    {
     "name": "stderr",
     "output_type": "stream",
     "text": [
      "Aligning rasters:  50%|█████     | 7/14 [07:55<09:38, 82.61s/it]"
     ]
    },
    {
     "name": "stdout",
     "output_type": "stream",
     "text": [
      "Aligned: mag_uc_4_8km.tif\n"
     ]
    },
    {
     "name": "stderr",
     "output_type": "stream",
     "text": [
      "Aligning rasters:  57%|█████▋    | 8/14 [09:28<08:34, 85.80s/it]"
     ]
    },
    {
     "name": "stdout",
     "output_type": "stream",
     "text": [
      "Aligned: mag_uc_8_12km.tif\n"
     ]
    },
    {
     "name": "stderr",
     "output_type": "stream",
     "text": [
      "Aligning rasters:  64%|██████▍   | 9/14 [10:39<06:46, 81.22s/it]"
     ]
    },
    {
     "name": "stdout",
     "output_type": "stream",
     "text": [
      "Aligned: radio_k_pct.tif\n"
     ]
    },
    {
     "name": "stderr",
     "output_type": "stream",
     "text": [
      "Aligning rasters:  71%|███████▏  | 10/14 [11:50<05:12, 78.05s/it]"
     ]
    },
    {
     "name": "stdout",
     "output_type": "stream",
     "text": [
      "Aligned: radio_th_k_ratio.tif\n"
     ]
    },
    {
     "name": "stderr",
     "output_type": "stream",
     "text": [
      "Aligning rasters:  79%|███████▊  | 11/14 [13:01<03:47, 75.87s/it]"
     ]
    },
    {
     "name": "stdout",
     "output_type": "stream",
     "text": [
      "Aligned: radio_th_ppm.tif\n"
     ]
    },
    {
     "name": "stderr",
     "output_type": "stream",
     "text": [
      "Aligning rasters:  86%|████████▌ | 12/14 [14:12<02:28, 74.45s/it]"
     ]
    },
    {
     "name": "stdout",
     "output_type": "stream",
     "text": [
      "Aligned: radio_u_k_ratio.tif\n"
     ]
    },
    {
     "name": "stderr",
     "output_type": "stream",
     "text": [
      "Aligning rasters:  93%|█████████▎| 13/14 [15:23<01:13, 73.40s/it]"
     ]
    },
    {
     "name": "stdout",
     "output_type": "stream",
     "text": [
      "Aligned: radio_u_ppm.tif\n"
     ]
    },
    {
     "name": "stderr",
     "output_type": "stream",
     "text": [
      "Aligning rasters: 100%|██████████| 14/14 [16:34<00:00, 71.07s/it]"
     ]
    },
    {
     "name": "stdout",
     "output_type": "stream",
     "text": [
      "Aligned: radio_u_th_ratio.tif\n"
     ]
    },
    {
     "name": "stderr",
     "output_type": "stream",
     "text": [
      "\n"
     ]
    }
   ],
   "source": [
    "import os\n",
    "import math\n",
    "import rasterio\n",
    "from rasterio.warp import reproject, Resampling, calculate_default_transform\n",
    "import numpy as np\n",
    "import matplotlib.pyplot as plt\n",
    "from pyproj import Transformer\n",
    "from tqdm import tqdm\n",
    "\n",
    "# === 1. Configuration ===\n",
    "RAW_DIR = \"../../data/raw\"\n",
    "ALIGNED_DIR = \"../../data/aligned\"\n",
    "os.makedirs(ALIGNED_DIR, exist_ok=True)\n",
    "\n",
    "TARGET_CRS = \"EPSG:3577\"  # GDA94 / Australian Albers\n",
    "RESOLUTION = 250  # meters\n",
    "NODATA_VALUE = -9999\n",
    "\n",
    "# Geographic bounds (EPSG:4326)\n",
    "min_lon, min_lat = 113.75, -43.3\n",
    "max_lon, max_lat = 153.55, -12.4\n",
    "\n",
    "# === 2. Transform bounds to target CRS ===\n",
    "transformer = Transformer.from_crs(\"EPSG:4326\", TARGET_CRS, always_xy=True)\n",
    "xmin, ymin = transformer.transform(min_lon, min_lat)\n",
    "xmax, ymax = transformer.transform(max_lon, max_lat)\n",
    "\n",
    "# === 3. Alignment function ===\n",
    "def align_with_rasterio(input_path, output_path):\n",
    "    try:\n",
    "        with rasterio.open(input_path) as src:\n",
    "            \n",
    "            transform, width, height = calculate_default_transform(\n",
    "                src.crs, TARGET_CRS, src.width, src.height, *src.bounds,\n",
    "                resolution=RESOLUTION\n",
    "            )\n",
    "            \n",
    "            \n",
    "            kwargs = src.meta.copy()\n",
    "            kwargs.update({\n",
    "                'crs': TARGET_CRS,\n",
    "                'transform': transform,\n",
    "                'width': width,\n",
    "                'height': height,\n",
    "                'driver': 'GTiff',\n",
    "                'compress': 'lzw',\n",
    "                'nodata': NODATA_VALUE\n",
    "            })\n",
    "            \n",
    "            with rasterio.open(output_path, 'w', **kwargs) as dst:\n",
    "                for i in range(1, src.count + 1):\n",
    "                    reproject(\n",
    "                        source=rasterio.band(src, i),\n",
    "                        destination=rasterio.band(dst, i),\n",
    "                        src_transform=src.transform,\n",
    "                        src_crs=src.crs,\n",
    "                        dst_transform=transform,\n",
    "                        dst_crs=TARGET_CRS,\n",
    "                        resampling=Resampling.bilinear\n",
    "                    )\n",
    "                \n",
    "        print(f\"Aligned: {os.path.basename(input_path)}\")\n",
    "        return True\n",
    "    except Exception as e:\n",
    "        print(f\"Error aligning {input_path}: {e}\")\n",
    "        return False\n",
    "\n",
    "# === 4. Batch processing ===\n",
    "input_files = [f for f in os.listdir(RAW_DIR) if f.lower().endswith(\".tif\")]\n",
    "\n",
    "for fname in tqdm(input_files, desc=\"Aligning rasters\"):\n",
    "    input_path = os.path.join(RAW_DIR, fname)\n",
    "    name, ext = os.path.splitext(fname)\n",
    "    output_path = os.path.join(ALIGNED_DIR, f\"{name}_aligned{ext}\")\n",
    "    align_with_rasterio(input_path, output_path)"
   ]
  }
 ],
 "metadata": {
  "kernelspec": {
   "display_name": "geoenv",
   "language": "python",
   "name": "python3"
  },
  "language_info": {
   "codemirror_mode": {
    "name": "ipython",
    "version": 3
   },
   "file_extension": ".py",
   "mimetype": "text/x-python",
   "name": "python",
   "nbconvert_exporter": "python",
   "pygments_lexer": "ipython3",
   "version": "3.10.6"
  }
 },
 "nbformat": 4,
 "nbformat_minor": 2
}
