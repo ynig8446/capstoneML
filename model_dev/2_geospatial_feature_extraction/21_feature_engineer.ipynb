{
 "cells": [
  {
   "cell_type": "markdown",
   "metadata": {},
   "source": [
    "# Feature Engineering from GeoTIFF\n",
    "\n",
    "This notebook generates new derived geophysical features from selected aligned GeoTIFF layers. These features are designed to help the machine learning model better detect porphyry copper deposit patterns by emphasizing geological structures, boundaries, and local variations.\n",
    "\n",
    "We focus on a small number of key layers and apply commonly used geophysical transformations such as:\n",
    "\n",
    "- 1VD (First Vertical Derivative): Highlights edges and shallow structures in magnetic data.\n",
    "\n",
    "- THD (Total Horizontal Derivative): Enhances magnetic boundaries, less sensitive to magnetic direction.\n",
    "\n",
    "- Local Standard Deviation: Measures local variation or “texture”, often linked to structural complexity or alteration zones.\n",
    "\n",
    "All outputs are saved as new .tif files under the /data/derived/ folder.\n",
    "\n",
    "Only a few representative layers are selected (e.g., mag_uc_2_4km, gravity_iso_residual) to keep the process efficient and meaningful, following expert recommendations."
   ]
  },
  {
   "cell_type": "code",
   "execution_count": 2,
   "metadata": {},
   "outputs": [],
   "source": [
    "import os\n",
    "import numpy as np\n",
    "import rasterio\n",
    "from rasterio import Affine\n",
    "from rasterio.enums import Resampling\n",
    "from scipy.ndimage import sobel, generic_filter\n",
    "import matplotlib.pyplot as plt\n",
    "import cv2"
   ]
  },
  {
   "cell_type": "code",
   "execution_count": 3,
   "metadata": {},
   "outputs": [],
   "source": [
    "# === 1. Configuration ===\n",
    "ALIGNED_DIR = \"../../data/aligned\"\n",
    "DERIVED_DIR = \"../../data/derived\"\n",
    "os.makedirs(DERIVED_DIR, exist_ok=True)\n",
    "\n",
    "# Target input layers for feature engineering\n",
    "key_layers = {\n",
    "    \"mag_uc_2_4km\": True,  # Generate 1VD, THD, stddev\n",
    "    \"gravity_iso_residual\": False,  # Generate stddev only\n",
    "    \"gravity_cscba\": False  # Generate stddev (already has 1VD externally)\n",
    "}"
   ]
  },
  {
   "cell_type": "code",
   "execution_count": 4,
   "metadata": {},
   "outputs": [],
   "source": [
    "# === 2. Helper: Load raster ===\n",
    "def load_raster(path):\n",
    "    with rasterio.open(path) as src:\n",
    "        arr = src.read(1)\n",
    "        meta = src.meta.copy()\n",
    "    return arr, meta"
   ]
  },
  {
   "cell_type": "code",
   "execution_count": 5,
   "metadata": {},
   "outputs": [],
   "source": [
    "# === 3. 1VD (vertical derivative) ===\n",
    "def compute_1vd(data, pixel_size):\n",
    "    # Simple vertical approximation using sobel in Y-direction\n",
    "    return sobel(data, axis=0) / pixel_size"
   ]
  },
  {
   "cell_type": "code",
   "execution_count": 6,
   "metadata": {},
   "outputs": [],
   "source": [
    "# === 4. Total Horizontal Derivative (gradient magnitude) ===\n",
    "def compute_thd(data, pixel_size):\n",
    "    gx = sobel(data, axis=1) / pixel_size\n",
    "    gy = sobel(data, axis=0) / pixel_size\n",
    "    return np.hypot(gx, gy)"
   ]
  },
  {
   "cell_type": "code",
   "execution_count": 7,
   "metadata": {},
   "outputs": [],
   "source": [
    "# === 5. Local standard deviation ===\n",
    "def fast_local_std(img: np.ndarray, window_size: int = 3) -> np.ndarray:\n",
    "    \"\"\"Efficient local std using OpenCV box filter method.\"\"\"\n",
    "    # Ensure image is float32\n",
    "    img = img.astype(np.float32)\n",
    "\n",
    "    # Compute mean and mean of squares\n",
    "    mean = cv2.boxFilter(img, ddepth=-1, ksize=(window_size, window_size), normalize=True, borderType=cv2.BORDER_REFLECT)\n",
    "    sq_mean = cv2.boxFilter(img**2, ddepth=-1, ksize=(window_size, window_size), normalize=True, borderType=cv2.BORDER_REFLECT)\n",
    "\n",
    "    # Standard deviation\n",
    "    std = np.sqrt(sq_mean - mean**2)\n",
    "    return std\n"
   ]
  },
  {
   "cell_type": "code",
   "execution_count": 8,
   "metadata": {},
   "outputs": [
    {
     "name": "stderr",
     "output_type": "stream",
     "text": [
      "C:\\Users\\John\\AppData\\Local\\Temp\\ipykernel_21848\\3953158862.py:12: RuntimeWarning: invalid value encountered in sqrt\n",
      "  std = np.sqrt(sq_mean - mean**2)\n"
     ]
    },
    {
     "name": "stdout",
     "output_type": "stream",
     "text": [
      "Key feature engineering GeoTIFFs generated in ../../data/derived\n"
     ]
    }
   ],
   "source": [
    "# === 6. Batch feature generation ===\n",
    "for layer, generate_all in key_layers.items():\n",
    "    aligned_path = os.path.join(ALIGNED_DIR, f\"{layer}_aligned.tif\")\n",
    "    data, meta = load_raster(aligned_path)\n",
    "    transform = meta['transform']\n",
    "    pixel_size = abs(transform[0])  # assume square pixel\n",
    "\n",
    "    if generate_all:\n",
    "        # 1VD\n",
    "        vd = compute_1vd(data, pixel_size)\n",
    "        meta.update(dtype='float32', compress='lzw')\n",
    "        with rasterio.open(os.path.join(DERIVED_DIR, f\"{layer}_1vd.tif\"), 'w', **meta) as dst:\n",
    "            dst.write(vd.astype(np.float32), 1)\n",
    "\n",
    "        # THD\n",
    "        thd = compute_thd(data, pixel_size)\n",
    "        with rasterio.open(os.path.join(DERIVED_DIR, f\"{layer}_thd.tif\"), 'w', **meta) as dst:\n",
    "            dst.write(thd.astype(np.float32), 1)\n",
    "\n",
    "    # Local stddev (faster method)\n",
    "    stddev = fast_local_std(data, window_size=3)\n",
    "    with rasterio.open(os.path.join(DERIVED_DIR, f\"{layer}_stddev3x3.tif\"), 'w', **meta) as dst:\n",
    "        dst.write(stddev.astype(np.float32), 1)\n",
    "\n",
    "print(\"Key feature engineering GeoTIFFs generated in\", DERIVED_DIR)"
   ]
  }
 ],
 "metadata": {
  "kernelspec": {
   "display_name": "geoenv",
   "language": "python",
   "name": "python3"
  },
  "language_info": {
   "codemirror_mode": {
    "name": "ipython",
    "version": 3
   },
   "file_extension": ".py",
   "mimetype": "text/x-python",
   "name": "python",
   "nbconvert_exporter": "python",
   "pygments_lexer": "ipython3",
   "version": "3.10.6"
  }
 },
 "nbformat": 4,
 "nbformat_minor": 2
}
