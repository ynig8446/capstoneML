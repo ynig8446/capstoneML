{
 "cells": [
  {
   "cell_type": "markdown",
   "metadata": {},
   "source": [
    "# Extract Core Positive Samples (Porphyry Copper in Australia)\n",
    "\n",
    "Based on the dataset's description and analysis objectives from [01_data_exploration_porphyry_datasheet](./01_data_exploration_porphyry_datasheet.ipynb), we carefully selected the following fields to retain as our positive examples.\n",
    "\n",
    "- DEPOSIT: A unique identifier for each deposit, essential for visualization and traceability.\n",
    "- LATITUDE: Key coordinates required for spatial localization and integration with geotiff or shapefile data. These fields are indispensable for any geospatial analysis.\n",
    "- LONGITUDE: Key coordinates required for spatial localization and integration with geotiff or shapefile data. These fields are indispensable for any geospatial analysis.\n",
    "- CMMI_DEPOSIT_ENVIRONMENT: An optional classification feature that can be used as a one-hot encoded input in machine learning models.\n",
    "- ORE_TONNAGE_MT: Represents the scale of the ore body, which may correlate with anomaly intensity and can serve as an explanatory feature.\n",
    "- CU_PERCENT: Actual grades of copper (Cu), molybdenum (Mo), gold (Au), and silver (Ag). These fields are critical for labeling positive samples or serving as explanatory variables in modeling.\n",
    "- MO_PERCENT: Actual grades of copper (Cu), molybdenum (Mo), gold (Au), and silver (Ag). These fields are critical for labeling positive samples or serving as explanatory variables in modeling.\n",
    "- AU_GT: Actual grades of copper (Cu), molybdenum (Mo), gold (Au), and silver (Ag). These fields are critical for labeling positive samples or serving as explanatory variables in modeling.\n",
    "- AG_GT: Actual grades of copper (Cu), molybdenum (Mo), gold (Au), and silver (Ag). These fields are critical for labeling positive samples or serving as explanatory variables in modeling.\n"
   ]
  },
  {
   "cell_type": "code",
   "execution_count": 1,
   "metadata": {},
   "outputs": [
    {
     "name": "stdout",
     "output_type": "stream",
     "text": [
      "            DEPOSIT  LATITUDE  LONGITUDE CMMI_DEPOSIT_ENVIRONMENT   \n",
      "47        Allendale -32.54985  148.17342    Magmatic hydrothermal  \\\n",
      "65     Anabama Hill -32.71890  140.20550    Magmatic hydrothermal   \n",
      "171            Bank -20.13699  146.75008    Magmatic hydrothermal   \n",
      "179  Barrabas Creek -20.10957  146.78779    Magmatic hydrothermal   \n",
      "203  Beaks Mountain -19.98549  147.62138    Magmatic hydrothermal   \n",
      "\n",
      "    ASSIGNED_AGE_MA ORE_TONNAGE_MT CU_PERCENT MO_PERCENT AU_GT AG_GT  \n",
      "47            436.5                                                   \n",
      "65              502              4        0.6                         \n",
      "171             395                                                   \n",
      "179             395                                                   \n",
      "203             265                                                   \n"
     ]
    }
   ],
   "source": [
    "import pandas as pd\n",
    "\n",
    "# read Porphyry_datasheet\n",
    "df = pd.read_csv('../../data/raw/Dataset/USGS/Porphyry_Copper_Deposit/Porphyry_datasheet.csv'\n",
    "                 , encoding='ISO-8859-1') # porphyry_dataset unicode is ISO-8859-1\n",
    "\n",
    "# filter the data for Australia Porphyry Copper\n",
    "australia_porphyry_copper_data = df[df['COUNTRY'] == 'Australia']\n",
    "\n",
    "# Define the list of fields to retain\n",
    "selected_fields = [\n",
    "    'DEPOSIT', \n",
    "    'LATITUDE', 'LONGITUDE', \n",
    "    'CMMI_DEPOSIT_ENVIRONMENT', \n",
    "    'ASSIGNED_AGE_MA', \n",
    "    'ORE_TONNAGE_MT', \n",
    "    'CU_PERCENT', 'MO_PERCENT', 'AU_GT', 'AG_GT'\n",
    "]\n",
    "\n",
    "# Filter the dataset to retain only the selected fields\n",
    "australia_positive_data = australia_porphyry_copper_data[selected_fields]\n",
    "\n",
    "# Display the first few rows of the filtered data\n",
    "print(australia_positive_data.head())\n",
    "\n",
    "# Save the filtered data to a new CSV file at \\processed\n",
    "australia_positive_data.to_csv('../data/processed/positive_core_clean.csv', index=False)\n"
   ]
  }
 ],
 "metadata": {
  "kernelspec": {
   "display_name": "Python 3",
   "language": "python",
   "name": "python3"
  },
  "language_info": {
   "codemirror_mode": {
    "name": "ipython",
    "version": 3
   },
   "file_extension": ".py",
   "mimetype": "text/x-python",
   "name": "python",
   "nbconvert_exporter": "python",
   "pygments_lexer": "ipython3",
   "version": "3.10.6"
  }
 },
 "nbformat": 4,
 "nbformat_minor": 2
}
