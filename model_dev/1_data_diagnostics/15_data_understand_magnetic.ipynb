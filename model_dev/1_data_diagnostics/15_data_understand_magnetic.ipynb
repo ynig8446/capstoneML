{
 "cells": [
  {
   "cell_type": "markdown",
   "metadata": {},
   "source": [
    "# Magnetic Raster Data Diagnostic\n",
    "\n",
    "This notebook explores and visualizes **magnetic anomaly GeoTIFF files** before merging with point sample data. It helps understand spatial extent, distribution of magnetic values at different upward continuation depths, and preprocessing implications.\n",
    "\n",
    "## 1.Magnetic Data Files\n",
    "We examine these total magnetic intensity (TMI) upward continued grids from the AWAGS 2019 dataset:\n",
    "\n",
    "| File Name | Feature Name | Depth Range | Description |\n",
    "|-----------|--------------|--------------|-------------|\n",
    "| `UC1km2kmRes` | `mag_uc_1_2km` | 1–2 km | Shallow sources enhanced |\n",
    "| `UC2km4kmRes` | `mag_uc_2_4km` | 2–4 km | Intermediate anomalies |\n",
    "| `UC4km8kmRes` | `mag_uc_4_8km` | 4–8 km | Balanced deeper features |\n",
    "| `UC8km12kmRes` | `mag_uc_8_12km` | 8–12 km | Deep crustal trends |\n",
    "| `UC12km16kmRes` | `mag_uc_12_16km` | 12–16 km | Regional tectonics emphasis |"
   ]
  },
  {
   "cell_type": "markdown",
   "metadata": {},
   "source": [
    "## 2.Raster Metadata Inspection"
   ]
  },
  {
   "cell_type": "code",
   "execution_count": 1,
   "metadata": {},
   "outputs": [],
   "source": [
    "import rasterio\n",
    "from rasterio.plot import show\n",
    "import matplotlib.pyplot as plt\n",
    "import numpy as np\n",
    "\n",
    "def inspect_magnetic_tif(path, title=\"Magnetic Anomaly\"):\n",
    "    with rasterio.open(path) as src:\n",
    "        print(\"CRS:\", src.crs)\n",
    "        print(\"Transform:\", src.transform)\n",
    "        print(\"Bounds:\", src.bounds)\n",
    "        print(\"Width x Height:\", src.width, \"x\", src.height)\n",
    "        print(\"Data Type:\", src.dtypes)\n",
    "        print(\"NoData Value:\", src.nodata)\n",
    "        print(\"Resolution:\", src.res)\n",
    "        band = src.read(1)\n",
    "        print(\"Min:\", band.min(), \"Max:\", band.max())"
   ]
  },
  {
   "cell_type": "code",
   "execution_count": 2,
   "metadata": {},
   "outputs": [],
   "source": [
    "def plot_pixel_distribution(band, nodata, title):\n",
    "    values = band[band != nodata]\n",
    "    plt.figure(figsize=(7, 4))\n",
    "    plt.hist(values, bins=100, color=\"salmon\", edgecolor=\"black\")\n",
    "    plt.title(title)\n",
    "    plt.xlabel(\"Magnetic Anomaly (nT)\")\n",
    "    plt.ylabel(\"Pixel Count\")\n",
    "    plt.grid(True)\n",
    "    plt.show()"
   ]
  },
  {
   "cell_type": "markdown",
   "metadata": {},
   "source": [
    "## 3.Example Analysis"
   ]
  },
  {
   "cell_type": "code",
   "execution_count": 3,
   "metadata": {},
   "outputs": [],
   "source": [
    "mag_uc_1_2km = \"../../data/raw/Dataset/GA/MAgnetic/Magmap2019-grid-tmi_rtp_upcon-UC1km2kmRes-AWAGS_MAG_2019.tif\"\n",
    "mag_uc_2_4km = \"../../data/raw/Dataset/GA/Magnetic/Magmap2019-grid-tmi_rtp_upcon-UC2km4kmRes-AWAGS_MAG_2019.tif\"\n",
    "mag_uc_4_8km = \"../../data/raw/Dataset/GA/Magnetic/Magmap2019-grid-tmi_rtp_upcon-UC4km8kmRes-AWAGS_MAG_2019.tif\"\n",
    "mag_uc_8_12km = \"../../data/raw/Dataset/GA/Magnetic/Magmap2019-grid-tmi_rtp_upcon-UC8km12kmRes-AWAGS_MAG_2019.tif\"\n",
    "mag_uc_12_16km = \"../../data/raw/Dataset/GA/Magnetic/Magmap2019-grid-tmi_rtp_upcon-UC12km16kmRes-AWAGS_MAG_2019.tif\""
   ]
  },
  {
   "cell_type": "code",
   "execution_count": 4,
   "metadata": {},
   "outputs": [
    {
     "name": "stdout",
     "output_type": "stream",
     "text": [
      "CRS: GEOGCS[\"GDA94\",DATUM[\"unnamed\",SPHEROID[\"unnamed\",6378137,298.257222101004]],PRIMEM[\"Greenwich\",0],UNIT[\"degree\",0.0174532925199433,AUTHORITY[\"EPSG\",\"9122\"]],AXIS[\"Latitude\",NORTH],AXIS[\"Longitude\",EAST]]\n",
      "Transform: | 0.00, 0.00, 111.00|\n",
      "| 0.00,-0.00,-9.03|\n",
      "| 0.00, 0.00, 1.00|\n",
      "Bounds: BoundingBox(left=110.99980000000001, bottom=-43.930550000000004, right=154.66430000000003, top=-9.026150000000001)\n",
      "Width x Height: 51370 x 41064\n",
      "Data Type: ('float32',)\n",
      "NoData Value: -99999.0\n",
      "Resolution: (0.0008500000000000001, 0.0008500000000000001)\n",
      "Min: -99999.0 Max: 6989.2944\n"
     ]
    }
   ],
   "source": [
    "inspect_magnetic_tif(mag_uc_1_2km, title=\"Magnetic Anomaly (1-2km)\")"
   ]
  },
  {
   "cell_type": "code",
   "execution_count": 5,
   "metadata": {},
   "outputs": [
    {
     "name": "stdout",
     "output_type": "stream",
     "text": [
      "CRS: GEOGCS[\"GDA94\",DATUM[\"unnamed\",SPHEROID[\"unnamed\",6378137,298.257222101004]],PRIMEM[\"Greenwich\",0],UNIT[\"degree\",0.0174532925199433,AUTHORITY[\"EPSG\",\"9122\"]],AXIS[\"Latitude\",NORTH],AXIS[\"Longitude\",EAST]]\n",
      "Transform: | 0.00, 0.00, 111.00|\n",
      "| 0.00,-0.00,-9.03|\n",
      "| 0.00, 0.00, 1.00|\n",
      "Bounds: BoundingBox(left=110.99980000000001, bottom=-43.930550000000004, right=154.66430000000003, top=-9.026150000000001)\n",
      "Width x Height: 51370 x 41064\n",
      "Data Type: ('float32',)\n",
      "NoData Value: -99999.0\n",
      "Resolution: (0.0008500000000000001, 0.0008500000000000001)\n",
      "Min: -99999.0 Max: 4111.414\n"
     ]
    }
   ],
   "source": [
    "inspect_magnetic_tif(mag_uc_2_4km, title=\"Magnetic Anomaly (2-4km)\")"
   ]
  },
  {
   "cell_type": "code",
   "execution_count": 6,
   "metadata": {},
   "outputs": [
    {
     "name": "stdout",
     "output_type": "stream",
     "text": [
      "CRS: GEOGCS[\"GDA94\",DATUM[\"unnamed\",SPHEROID[\"unnamed\",6378137,298.257222101004]],PRIMEM[\"Greenwich\",0],UNIT[\"degree\",0.0174532925199433,AUTHORITY[\"EPSG\",\"9122\"]],AXIS[\"Latitude\",NORTH],AXIS[\"Longitude\",EAST]]\n",
      "Transform: | 0.00, 0.00, 111.00|\n",
      "| 0.00,-0.00,-9.03|\n",
      "| 0.00, 0.00, 1.00|\n",
      "Bounds: BoundingBox(left=110.99980000000001, bottom=-43.930550000000004, right=154.66430000000003, top=-9.026150000000001)\n",
      "Width x Height: 51370 x 41064\n",
      "Data Type: ('float32',)\n",
      "NoData Value: -99999.0\n",
      "Resolution: (0.0008500000000000001, 0.0008500000000000001)\n",
      "Min: -99999.0 Max: 2208.453\n"
     ]
    }
   ],
   "source": [
    "inspect_magnetic_tif(mag_uc_4_8km, title=\"Magnetic Anomaly (4-8km)\")"
   ]
  },
  {
   "cell_type": "code",
   "execution_count": 7,
   "metadata": {},
   "outputs": [
    {
     "name": "stdout",
     "output_type": "stream",
     "text": [
      "CRS: GEOGCS[\"GDA94\",DATUM[\"unnamed\",SPHEROID[\"unnamed\",6378137,298.257222101004]],PRIMEM[\"Greenwich\",0],UNIT[\"degree\",0.0174532925199433,AUTHORITY[\"EPSG\",\"9122\"]],AXIS[\"Latitude\",NORTH],AXIS[\"Longitude\",EAST]]\n",
      "Transform: | 0.00, 0.00, 111.00|\n",
      "| 0.00,-0.00,-9.03|\n",
      "| 0.00, 0.00, 1.00|\n",
      "Bounds: BoundingBox(left=110.99980000000001, bottom=-43.930550000000004, right=154.66430000000003, top=-9.026150000000001)\n",
      "Width x Height: 51370 x 41064\n",
      "Data Type: ('float32',)\n",
      "NoData Value: -99999.0\n",
      "Resolution: (0.0008500000000000001, 0.0008500000000000001)\n",
      "Min: -99999.0 Max: 687.9308\n"
     ]
    }
   ],
   "source": [
    "inspect_magnetic_tif(mag_uc_8_12km, title=\"Magnetic Anomaly (8-12km)\")"
   ]
  },
  {
   "cell_type": "code",
   "execution_count": 8,
   "metadata": {},
   "outputs": [
    {
     "name": "stdout",
     "output_type": "stream",
     "text": [
      "CRS: GEOGCS[\"GDA94\",DATUM[\"unnamed\",SPHEROID[\"unnamed\",6378137,298.257222101004]],PRIMEM[\"Greenwich\",0],UNIT[\"degree\",0.0174532925199433,AUTHORITY[\"EPSG\",\"9122\"]],AXIS[\"Latitude\",NORTH],AXIS[\"Longitude\",EAST]]\n",
      "Transform: | 0.00, 0.00, 111.00|\n",
      "| 0.00,-0.00,-9.03|\n",
      "| 0.00, 0.00, 1.00|\n",
      "Bounds: BoundingBox(left=110.99980000000001, bottom=-43.930550000000004, right=154.66430000000003, top=-9.026150000000001)\n",
      "Width x Height: 51370 x 41064\n",
      "Data Type: ('float32',)\n",
      "NoData Value: -99999.0\n",
      "Resolution: (0.0008500000000000001, 0.0008500000000000001)\n",
      "Min: -99999.0 Max: 337.78595\n"
     ]
    }
   ],
   "source": [
    "inspect_magnetic_tif(mag_uc_12_16km, title=\"Magnetic Anomaly (12-16km)\")"
   ]
  }
 ],
 "metadata": {
  "kernelspec": {
   "display_name": "geoenv",
   "language": "python",
   "name": "python3"
  },
  "language_info": {
   "codemirror_mode": {
    "name": "ipython",
    "version": 3
   },
   "file_extension": ".py",
   "mimetype": "text/x-python",
   "name": "python",
   "nbconvert_exporter": "python",
   "pygments_lexer": "ipython3",
   "version": "3.10.6"
  }
 },
 "nbformat": 4,
 "nbformat_minor": 2
}
