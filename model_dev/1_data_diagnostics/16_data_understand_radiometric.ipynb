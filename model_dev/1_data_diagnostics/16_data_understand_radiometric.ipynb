{
 "cells": [
  {
   "cell_type": "code",
   "execution_count": 3,
   "metadata": {},
   "outputs": [],
   "source": [
    "import rasterio\n",
    "from rasterio.plot import show\n",
    "import matplotlib.pyplot as plt\n",
    "import numpy as np\n",
    "\n",
    "def inspect_radiometric_tif(path, title=\"Radiometric\"):\n",
    "    with rasterio.open(path) as src:\n",
    "        print(\"CRS:\", src.crs)\n",
    "        print(\"Transform:\", src.transform)\n",
    "        print(\"Bounds:\", src.bounds)\n",
    "        print(\"Width x Height:\", src.width, \"x\", src.height)\n",
    "        print(\"Data Type:\", src.dtypes)\n",
    "        print(\"NoData Value:\", src.nodata)\n",
    "        print(\"Resolution:\", src.res)\n",
    "        band = src.read(1)\n",
    "        print(\"Min:\", band.min(), \"Max:\", band.max())"
   ]
  },
  {
   "cell_type": "code",
   "execution_count": 2,
   "metadata": {},
   "outputs": [],
   "source": [
    "radio_k_pct_path = \"../../data/raw/Dataset/GA/Radiometric/Radmap2019-grid-k_conc-Filtered-AWAGS_RAD_2019.tif\"\n",
    "radio_th_ppm_path = \"../../data/raw/Dataset/GA/Radiometric/Radmap2019-grid-th_conc-Filtered-AWAGS_RAD_2019.tif\"\n",
    "radio_u_ppm_path = \"../../data/raw/Dataset/GA/Radiometric/Radmap2019-grid-u_conc-Filtered-AWAGS_RAD_2019.tif\"\n",
    "radio_u_k_ratio_path = \"../../data/raw/Dataset/GA/Radiometric/Radmap2019-grid-uk_ratio-AWAGS_RAD_2019.tif\"\n",
    "radio_u_th_ratio_path = \"../../data/raw/Dataset/GA/Radiometric/Radmap2019-grid-uth_ratio-AWAGS_RAD_2019.tif\"\n",
    "radio_th_k_ratio_path = \"../../data/raw/Dataset/GA/Radiometric/Radmap2019-grid-thk_ratio-AWAGS_RAD_2019.tif\""
   ]
  },
  {
   "cell_type": "code",
   "execution_count": 4,
   "metadata": {},
   "outputs": [
    {
     "name": "stdout",
     "output_type": "stream",
     "text": [
      "CRS: GEOGCS[\"GDA94\",DATUM[\"unnamed\",SPHEROID[\"unnamed\",6378137,298.257222101004]],PRIMEM[\"Greenwich\",0],UNIT[\"degree\",0.0174532925199433,AUTHORITY[\"EPSG\",\"9122\"]],AXIS[\"Latitude\",NORTH],AXIS[\"Longitude\",EAST]]\n",
      "Transform: | 0.00, 0.00, 112.90|\n",
      "| 0.00,-0.00,-9.00|\n",
      "| 0.00, 0.00, 1.00|\n",
      "Bounds: BoundingBox(left=112.899, bottom=-43.761, right=153.671, top=-8.999)\n",
      "Width x Height: 40772 x 34762\n",
      "Data Type: ('float32',)\n",
      "NoData Value: -99999.0\n",
      "Resolution: (0.001, 0.001)\n",
      "Min: -99999.0 Max: 1370.4023\n"
     ]
    }
   ],
   "source": [
    "inspect_radiometric_tif(radio_k_pct_path, title=\"radio_k_pct\")"
   ]
  },
  {
   "cell_type": "code",
   "execution_count": 5,
   "metadata": {},
   "outputs": [
    {
     "name": "stdout",
     "output_type": "stream",
     "text": [
      "CRS: GEOGCS[\"GDA94\",DATUM[\"unnamed\",SPHEROID[\"unnamed\",6378137,298.257222101004]],PRIMEM[\"Greenwich\",0],UNIT[\"degree\",0.0174532925199433,AUTHORITY[\"EPSG\",\"9122\"]],AXIS[\"Latitude\",NORTH],AXIS[\"Longitude\",EAST]]\n",
      "Transform: | 0.00, 0.00, 112.90|\n",
      "| 0.00,-0.00,-9.00|\n",
      "| 0.00, 0.00, 1.00|\n",
      "Bounds: BoundingBox(left=112.899, bottom=-43.761, right=153.671, top=-8.999)\n",
      "Width x Height: 40772 x 34762\n",
      "Data Type: ('float32',)\n",
      "NoData Value: -99999.0\n",
      "Resolution: (0.001, 0.001)\n",
      "Min: -99999.0 Max: 1380.5974\n"
     ]
    }
   ],
   "source": [
    "inspect_radiometric_tif(radio_th_ppm_path, title=\"radio_th_ppm\")"
   ]
  },
  {
   "cell_type": "code",
   "execution_count": 6,
   "metadata": {},
   "outputs": [
    {
     "name": "stdout",
     "output_type": "stream",
     "text": [
      "CRS: GEOGCS[\"GDA94\",DATUM[\"unnamed\",SPHEROID[\"unnamed\",6378137,298.257222101004]],PRIMEM[\"Greenwich\",0],UNIT[\"degree\",0.0174532925199433,AUTHORITY[\"EPSG\",\"9122\"]],AXIS[\"Latitude\",NORTH],AXIS[\"Longitude\",EAST]]\n",
      "Transform: | 0.00, 0.00, 112.90|\n",
      "| 0.00,-0.00,-9.00|\n",
      "| 0.00, 0.00, 1.00|\n",
      "Bounds: BoundingBox(left=112.899, bottom=-43.761, right=153.671, top=-8.999)\n",
      "Width x Height: 40772 x 34762\n",
      "Data Type: ('float32',)\n",
      "NoData Value: -99999.0\n",
      "Resolution: (0.001, 0.001)\n",
      "Min: -99999.0 Max: 1371.3264\n"
     ]
    }
   ],
   "source": [
    "inspect_radiometric_tif(radio_u_ppm_path, title=\"radio_u_ppm\")"
   ]
  },
  {
   "cell_type": "code",
   "execution_count": 7,
   "metadata": {},
   "outputs": [
    {
     "name": "stdout",
     "output_type": "stream",
     "text": [
      "CRS: GEOGCS[\"GDA94\",DATUM[\"unnamed\",SPHEROID[\"unnamed\",6378137,298.257222101004]],PRIMEM[\"Greenwich\",0],UNIT[\"degree\",0.0174532925199433,AUTHORITY[\"EPSG\",\"9122\"]],AXIS[\"Latitude\",NORTH],AXIS[\"Longitude\",EAST]]\n",
      "Transform: | 0.00, 0.00, 112.90|\n",
      "| 0.00,-0.00,-9.00|\n",
      "| 0.00, 0.00, 1.00|\n",
      "Bounds: BoundingBox(left=112.899, bottom=-43.761, right=153.671, top=-8.999)\n",
      "Width x Height: 40772 x 34762\n",
      "Data Type: ('float32',)\n",
      "NoData Value: -99999.0\n",
      "Resolution: (0.001, 0.001)\n",
      "Min: -99999.0 Max: 228.18048\n"
     ]
    }
   ],
   "source": [
    "inspect_radiometric_tif(radio_u_k_ratio_path, title=\"radio_u_k_ratio\")"
   ]
  },
  {
   "cell_type": "code",
   "execution_count": 8,
   "metadata": {},
   "outputs": [
    {
     "name": "stdout",
     "output_type": "stream",
     "text": [
      "CRS: GEOGCS[\"GDA94\",DATUM[\"unnamed\",SPHEROID[\"unnamed\",6378137,298.257222101004]],PRIMEM[\"Greenwich\",0],UNIT[\"degree\",0.0174532925199433,AUTHORITY[\"EPSG\",\"9122\"]],AXIS[\"Latitude\",NORTH],AXIS[\"Longitude\",EAST]]\n",
      "Transform: | 0.00, 0.00, 112.90|\n",
      "| 0.00,-0.00,-9.00|\n",
      "| 0.00, 0.00, 1.00|\n",
      "Bounds: BoundingBox(left=112.899, bottom=-43.761, right=153.671, top=-8.999)\n",
      "Width x Height: 40772 x 34762\n",
      "Data Type: ('float32',)\n",
      "NoData Value: -99999.0\n",
      "Resolution: (0.001, 0.001)\n",
      "Min: -99999.0 Max: 96.38191\n"
     ]
    }
   ],
   "source": [
    "inspect_radiometric_tif(radio_u_th_ratio_path, title=\"radio_u_th_ratio\")"
   ]
  },
  {
   "cell_type": "code",
   "execution_count": 9,
   "metadata": {},
   "outputs": [
    {
     "name": "stdout",
     "output_type": "stream",
     "text": [
      "CRS: GEOGCS[\"GDA94\",DATUM[\"unnamed\",SPHEROID[\"unnamed\",6378137,298.257222101004]],PRIMEM[\"Greenwich\",0],UNIT[\"degree\",0.0174532925199433,AUTHORITY[\"EPSG\",\"9122\"]],AXIS[\"Latitude\",NORTH],AXIS[\"Longitude\",EAST]]\n",
      "Transform: | 0.00, 0.00, 112.90|\n",
      "| 0.00,-0.00,-9.00|\n",
      "| 0.00, 0.00, 1.00|\n",
      "Bounds: BoundingBox(left=112.899, bottom=-43.761, right=153.671, top=-8.999)\n",
      "Width x Height: 40772 x 34762\n",
      "Data Type: ('float32',)\n",
      "NoData Value: -99999.0\n",
      "Resolution: (0.001, 0.001)\n",
      "Min: -99999.0 Max: 1630.2014\n"
     ]
    }
   ],
   "source": [
    "inspect_radiometric_tif(radio_th_k_ratio_path, title=\"radio_th_k_ratio\")"
   ]
  }
 ],
 "metadata": {
  "kernelspec": {
   "display_name": "geoenv",
   "language": "python",
   "name": "python3"
  },
  "language_info": {
   "codemirror_mode": {
    "name": "ipython",
    "version": 3
   },
   "file_extension": ".py",
   "mimetype": "text/x-python",
   "name": "python",
   "nbconvert_exporter": "python",
   "pygments_lexer": "ipython3",
   "version": "3.10.6"
  }
 },
 "nbformat": 4,
 "nbformat_minor": 2
}
