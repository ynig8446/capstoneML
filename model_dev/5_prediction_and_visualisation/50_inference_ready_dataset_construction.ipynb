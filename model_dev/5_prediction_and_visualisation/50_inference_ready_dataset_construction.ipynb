{
 "cells": [
  {
   "cell_type": "markdown",
   "metadata": {},
   "source": [
    "This notebook constructs an inference-ready dataset from raw spatial sample points.\n",
    "It applies the same preprocessing pipeline used for training data to ensure consistency with the trained model."
   ]
  },
  {
   "cell_type": "code",
   "execution_count": 1,
   "metadata": {},
   "outputs": [],
   "source": [
    "QLD_BOUNDS = {\n",
    "    \"lat_min\": -29.0,\n",
    "    \"lat_max\": -10.5,\n",
    "    \"lon_min\": 137.9,\n",
    "    \"lon_max\": 153.6\n",
    "}"
   ]
  },
  {
   "cell_type": "code",
   "execution_count": 4,
   "metadata": {},
   "outputs": [],
   "source": [
    "import geopandas as gpd\n",
    "import pandas as pd\n",
    "import numpy as np\n",
    "from shapely.geometry import Point\n",
    "\n",
    "# 1. load GeoJSON\n",
    "gdf = gpd.read_file(\"../../data/raw/Dataset/australia_boundary/australian-states.json\")\n",
    "\n",
    "# 2. filter Queensland（QLD）\n",
    "qld = gdf[gdf[\"STATE_NAME\"].str.lower() == \"queensland\"]\n",
    "\n",
    "# 3. cast to proper CRS（EPSG:3577）\n",
    "qld = qld.to_crs(epsg=3577)\n",
    "\n",
    "# 4. extract QLD boundary\n",
    "minx, miny, maxx, maxy = qld.total_bounds\n",
    "\n",
    "# 5. sampling in QLD\n",
    "num_points = 30000\n",
    "points = []\n",
    "rng = np.random.default_rng(seed=42)\n",
    "\n",
    "while len(points) < num_points:\n",
    "    x = rng.uniform(minx, maxx)\n",
    "    y = rng.uniform(miny, maxy)\n",
    "    pt = Point(x, y)\n",
    "    if qld.contains(pt).any():\n",
    "        points.append(pt)\n",
    "\n",
    "# 6. store sampling points\n",
    "points_gdf = gpd.GeoDataFrame(geometry=points, crs=\"EPSG:3577\")\n",
    "\n",
    "# 7. for geo feature extracting\n",
    "points_gdf[\"latitude\"] = points_gdf.geometry.y\n",
    "points_gdf[\"longitude\"] = points_gdf.geometry.x\n",
    "\n",
    "# 8. store as coords_only.csv\n",
    "points_gdf[[\"latitude\", \"longitude\"]].to_csv(\"../../tests/data/user/coords_only.csv\", index=False)\n"
   ]
  },
  {
   "cell_type": "code",
   "execution_count": 5,
   "metadata": {},
   "outputs": [
    {
     "data": {
      "text/html": [
       "<div>\n",
       "<style scoped>\n",
       "    .dataframe tbody tr th:only-of-type {\n",
       "        vertical-align: middle;\n",
       "    }\n",
       "\n",
       "    .dataframe tbody tr th {\n",
       "        vertical-align: top;\n",
       "    }\n",
       "\n",
       "    .dataframe thead th {\n",
       "        text-align: right;\n",
       "    }\n",
       "</style>\n",
       "<table border=\"1\" class=\"dataframe\">\n",
       "  <thead>\n",
       "    <tr style=\"text-align: right;\">\n",
       "      <th></th>\n",
       "      <th>geometry</th>\n",
       "      <th>latitude</th>\n",
       "      <th>longitude</th>\n",
       "    </tr>\n",
       "  </thead>\n",
       "  <tbody>\n",
       "    <tr>\n",
       "      <th>0</th>\n",
       "      <td>POINT (789033.062 -2347901.093)</td>\n",
       "      <td>-2.347901e+06</td>\n",
       "      <td>7.890331e+05</td>\n",
       "    </tr>\n",
       "    <tr>\n",
       "      <th>1</th>\n",
       "      <td>POINT (1159960.092 -1327772.24)</td>\n",
       "      <td>-1.327772e+06</td>\n",
       "      <td>1.159960e+06</td>\n",
       "    </tr>\n",
       "    <tr>\n",
       "      <th>2</th>\n",
       "      <td>POINT (1270949.109 -2825753.579)</td>\n",
       "      <td>-2.825754e+06</td>\n",
       "      <td>1.270949e+06</td>\n",
       "    </tr>\n",
       "    <tr>\n",
       "      <th>3</th>\n",
       "      <td>POINT (1440865.995 -3175707.995)</td>\n",
       "      <td>-3.175708e+06</td>\n",
       "      <td>1.440866e+06</td>\n",
       "    </tr>\n",
       "    <tr>\n",
       "      <th>4</th>\n",
       "      <td>POINT (1751906.79 -2553177.797)</td>\n",
       "      <td>-2.553178e+06</td>\n",
       "      <td>1.751907e+06</td>\n",
       "    </tr>\n",
       "  </tbody>\n",
       "</table>\n",
       "</div>"
      ],
      "text/plain": [
       "                           geometry      latitude     longitude\n",
       "0   POINT (789033.062 -2347901.093) -2.347901e+06  7.890331e+05\n",
       "1   POINT (1159960.092 -1327772.24) -1.327772e+06  1.159960e+06\n",
       "2  POINT (1270949.109 -2825753.579) -2.825754e+06  1.270949e+06\n",
       "3  POINT (1440865.995 -3175707.995) -3.175708e+06  1.440866e+06\n",
       "4   POINT (1751906.79 -2553177.797) -2.553178e+06  1.751907e+06"
      ]
     },
     "execution_count": 5,
     "metadata": {},
     "output_type": "execute_result"
    }
   ],
   "source": [
    "points_gdf.head()"
   ]
  },
  {
   "cell_type": "code",
   "execution_count": 7,
   "metadata": {},
   "outputs": [
    {
     "name": "stdout",
     "output_type": "stream",
     "text": [
      "✅ full_features.csv generated, including all features\n"
     ]
    }
   ],
   "source": [
    "import pandas as pd\n",
    "import rasterio\n",
    "import numpy as np\n",
    "import os\n",
    "\n",
    "# load sampling points\n",
    "coords_df = pd.read_csv(\"../../tests/data/user/coords_only.csv\")\n",
    "\n",
    "# set feature names\n",
    "FEATURE_COLUMNS = [\n",
    "    \"gravity_iso_residual\",\n",
    "    \"gravity_cscba\",\n",
    "    \"gravity_cscba_1vd\",\n",
    "    \"mag_uc_4_8km\",\n",
    "    \"radio_k_pct\",\n",
    "    \"radio_u_ppm\",\n",
    "    \"gravity_cscba_stddev3x3\",\n",
    "    \"mag_uc_2_4km_thd\",\n",
    "    \"mag_uc_2_4km_stddev3x3\",\n",
    "    \"radio_th_k_ratio\",\n",
    "]\n",
    "\n",
    "geotiff_folder = \"../../tests/data/system\"\n",
    "geotiff_paths = {feature: os.path.join(geotiff_folder, f\"{feature}.tif\") for feature in FEATURE_COLUMNS}\n",
    "\n",
    "def extract_feature_values(df, tiff_path):\n",
    "    try:\n",
    "        with rasterio.open(tiff_path) as src:\n",
    "            coords = [(x, y) for x, y in zip(df[\"longitude\"], df[\"latitude\"])]\n",
    "            values = []\n",
    "            for val in src.sample(coords):\n",
    "                v = val[0]\n",
    "                if v == src.nodata or np.isnan(v):\n",
    "                    values.append(np.nan)\n",
    "                else:\n",
    "                    values.append(float(v))\n",
    "            return values\n",
    "    except Exception as e:\n",
    "        print(f\"Error extracting {tiff_path}: {e}\")\n",
    "        return [np.nan] * len(df)\n",
    "\n",
    "# extracting each features\n",
    "for feature, path in geotiff_paths.items():\n",
    "    if os.path.exists(path):\n",
    "        coords_df[feature] = extract_feature_values(coords_df, path)\n",
    "    else:\n",
    "        coords_df[feature] = np.nan\n",
    "\n",
    "# store as full_features.csv\n",
    "coords_df.to_csv(\"../../tests/data/user/full_features.csv\", index=False)\n",
    "\n",
    "print(\"✅ full_features.csv generated, including all features\")\n"
   ]
  }
 ],
 "metadata": {
  "kernelspec": {
   "display_name": "geoenv",
   "language": "python",
   "name": "python3"
  },
  "language_info": {
   "codemirror_mode": {
    "name": "ipython",
    "version": 3
   },
   "file_extension": ".py",
   "mimetype": "text/x-python",
   "name": "python",
   "nbconvert_exporter": "python",
   "pygments_lexer": "ipython3",
   "version": "3.10.6"
  }
 },
 "nbformat": 4,
 "nbformat_minor": 2
}
