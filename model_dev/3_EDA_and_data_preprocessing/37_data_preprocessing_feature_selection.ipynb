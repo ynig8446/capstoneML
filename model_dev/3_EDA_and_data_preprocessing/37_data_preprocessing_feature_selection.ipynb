{
 "cells": [
  {
   "cell_type": "code",
   "execution_count": 12,
   "metadata": {},
   "outputs": [],
   "source": [
    "# === 1. Imports ===\n",
    "import pandas as pd\n",
    "from sklearn.ensemble import RandomForestClassifier\n",
    "from sklearn.feature_selection import SelectFromModel\n",
    "import matplotlib.pyplot as plt\n",
    "import seaborn as sns\n",
    "import joblib"
   ]
  },
  {
   "cell_type": "code",
   "execution_count": 15,
   "metadata": {},
   "outputs": [],
   "source": [
    "# === 2. Load datasets ===\n",
    "X_train_transform = pd.read_csv(\"../../data/processed/transformed/X_train_transform_scaled_resampled.csv\")\n",
    "X_train_no_transform = pd.read_csv(\"../../data/processed/no_transformed/X_train_no_transform_scaled_resampled.csv\")\n",
    "y_train_transform = pd.read_csv(\"../../data/processed/transformed/y_train_transform_scaled_resampled.csv\")\n",
    "y_train_no_transform = pd.read_csv(\"../../data/processed/no_transformed/y_train_no_transform_scaled_resampled.csv\")\n",
    "\n",
    "X_val_transform = pd.read_csv(\"../../data/processed/transformed/X_val_transform_scaled.csv\")\n",
    "X_val_no_transform = pd.read_csv(\"../../data/processed/no_transformed/X_val_no_transform_scaled.csv\")\n",
    "\n",
    "X_test_transform = pd.read_csv(\"../../data/processed/transformed/X_test_transform_scaled.csv\")\n",
    "X_test_no_transform = pd.read_csv(\"../../data/processed/no_transformed/X_test_no_transform_scaled.csv\")\n",
    "y_test_transform = pd.read_csv(\"../../data/processed/transformed/y_test_transform.csv\")\n",
    "y_test_no_transform = pd.read_csv(\"../../data/processed/no_transformed/y_test_no_transform.csv\")"
   ]
  },
  {
   "cell_type": "code",
   "execution_count": 23,
   "metadata": {},
   "outputs": [
    {
     "name": "stderr",
     "output_type": "stream",
     "text": [
      "d:\\02_Study\\University\\2025-02_COMP5703_Capstone_Project\\2025-04_Github\\CS25_CopperCoreAI_ML\\geoenv\\lib\\site-packages\\sklearn\\utils\\validation.py:2732: UserWarning: X has feature names, but SelectFromModel was fitted without feature names\n",
      "  warnings.warn(\n",
      "d:\\02_Study\\University\\2025-02_COMP5703_Capstone_Project\\2025-04_Github\\CS25_CopperCoreAI_ML\\geoenv\\lib\\site-packages\\sklearn\\utils\\validation.py:2732: UserWarning: X has feature names, but SelectFromModel was fitted without feature names\n",
      "  warnings.warn(\n",
      "d:\\02_Study\\University\\2025-02_COMP5703_Capstone_Project\\2025-04_Github\\CS25_CopperCoreAI_ML\\geoenv\\lib\\site-packages\\sklearn\\utils\\validation.py:2732: UserWarning: X has feature names, but SelectFromModel was fitted without feature names\n",
      "  warnings.warn(\n",
      "d:\\02_Study\\University\\2025-02_COMP5703_Capstone_Project\\2025-04_Github\\CS25_CopperCoreAI_ML\\geoenv\\lib\\site-packages\\sklearn\\utils\\validation.py:2732: UserWarning: X has feature names, but SelectFromModel was fitted without feature names\n",
      "  warnings.warn(\n",
      "d:\\02_Study\\University\\2025-02_COMP5703_Capstone_Project\\2025-04_Github\\CS25_CopperCoreAI_ML\\geoenv\\lib\\site-packages\\sklearn\\utils\\validation.py:2732: UserWarning: X has feature names, but SelectFromModel was fitted without feature names\n",
      "  warnings.warn(\n",
      "d:\\02_Study\\University\\2025-02_COMP5703_Capstone_Project\\2025-04_Github\\CS25_CopperCoreAI_ML\\geoenv\\lib\\site-packages\\sklearn\\utils\\validation.py:2732: UserWarning: X has feature names, but SelectFromModel was fitted without feature names\n",
      "  warnings.warn(\n"
     ]
    }
   ],
   "source": [
    "# === 3. Train RF on transformed data ===\n",
    "rf_trans = RandomForestClassifier(n_estimators=100, random_state=42, n_jobs=-1)\n",
    "rf_trans.fit(X_train_transform, y_train_transform.values.ravel())\n",
    "\n",
    "selector_trans = SelectFromModel(rf_trans, threshold='median', prefit=True)\n",
    "selected_cols_trans = X_train_transform.columns[selector_trans.get_support()]\n",
    "\n",
    "X_train_trans_selected = pd.DataFrame(selector_trans.transform(X_train_transform))\n",
    "X_val_trans_selected = pd.DataFrame(selector_trans.transform(X_val_transform))\n",
    "X_test_trans_selected = pd.DataFrame(selector_trans.transform(X_test_transform))\n",
    "\n",
    "# store the selector and selected columns\n",
    "joblib.dump(selector_trans, \"../../models/selector_transform.pkl\")\n",
    "selected_cols_trans.to_series().to_csv(\"../../data/processed/selected_columns_transform.csv\", index=False)\n",
    "\n",
    "# === 4. Train RF on no-transform data ===\n",
    "rf_raw = RandomForestClassifier(n_estimators=100, random_state=42, n_jobs=-1)\n",
    "rf_raw.fit(X_train_no_transform, y_train_no_transform.values.ravel())\n",
    "\n",
    "selector_raw = SelectFromModel(rf_raw, threshold='median', prefit=True)\n",
    "selected_cols_raw = X_train_no_transform.columns[selector_raw.get_support()]\n",
    "\n",
    "X_train_raw_selected = pd.DataFrame(selector_raw.transform(X_train_no_transform))\n",
    "X_val_raw_selected = pd.DataFrame(selector_raw.transform(X_val_no_transform))\n",
    "X_test_raw_selected = pd.DataFrame(selector_raw.transform(X_test_no_transform))\n",
    "\n",
    "joblib.dump(selector_raw, \"../../models/selector_no_transform.pkl\")\n",
    "selected_cols_raw.to_series().to_csv(\"../../data/processed/selected_columns_no_transform.csv\", index=False)\n"
   ]
  },
  {
   "cell_type": "code",
   "execution_count": 20,
   "metadata": {},
   "outputs": [],
   "source": [
    "# === 5. Save selected datasets ===\n",
    "X_train_trans_selected.to_csv(\"../../data/processed/transformed/X_train_transform_selected.csv\", index=False)\n",
    "X_val_trans_selected.to_csv(\"../../data/processed/transformed/X_val_transform_selected.csv\", index=False)\n",
    "X_test_trans_selected.to_csv(\"../../data/processed/transformed/X_test_transform_selected.csv\", index=False)\n",
    "\n",
    "X_train_raw_selected.to_csv(\"../../data/processed/no_transformed/X_train_no_transform_selected.csv\", index=False)\n",
    "X_val_raw_selected.to_csv(\"../../data/processed/no_transformed/X_val_no_transform_selected.csv\", index=False)\n",
    "X_test_raw_selected.to_csv(\"../../data/processed/no_transformed/X_test_no_transform_selected.csv\", index=False)\n"
   ]
  }
 ],
 "metadata": {
  "kernelspec": {
   "display_name": "geoenv",
   "language": "python",
   "name": "python3"
  },
  "language_info": {
   "codemirror_mode": {
    "name": "ipython",
    "version": 3
   },
   "file_extension": ".py",
   "mimetype": "text/x-python",
   "name": "python",
   "nbconvert_exporter": "python",
   "pygments_lexer": "ipython3",
   "version": "3.10.6"
  }
 },
 "nbformat": 4,
 "nbformat_minor": 2
}
