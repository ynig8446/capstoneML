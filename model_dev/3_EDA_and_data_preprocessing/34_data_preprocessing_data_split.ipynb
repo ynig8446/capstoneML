{
 "cells": [
  {
   "cell_type": "markdown",
   "metadata": {},
   "source": [
    "# 33_data_preprocessing_data_split.ipynb\n",
    "\n",
    "To build a reliable and generalizable machine learning model, the dataset is split into three parts:\n",
    "\n",
    "- Training Set: is used to fit the model and adjust internal parameters (e.g., weights in a neural network or splits in a decision tree). The model learns from this subset.\n",
    "\n",
    "- Validation Set: helps in tuning hyperparameters and selecting the best-performing model. It acts as a proxy for unseen data during the model development phase.\n",
    "\n",
    "- Test Set: is held out completely from the training and validation process. It is only used at the final stage to evaluate the model’s generalization performance on truly unseen data.\n",
    "\n",
    "Traing : Validation : Test = 6:2:2"
   ]
  },
  {
   "cell_type": "code",
   "execution_count": 3,
   "metadata": {},
   "outputs": [
    {
     "name": "stdout",
     "output_type": "stream",
     "text": [
      "Train: (2951, 19)\n",
      "Validation: (984, 19)\n",
      "Test: (984, 19)\n",
      "Train/Validation/Test datasets with no transformation saved.\n"
     ]
    }
   ],
   "source": [
    "import pandas as pd\n",
    "from sklearn.model_selection import train_test_split\n",
    "\n",
    "# === 1. Load formatted input data ===\n",
    "df_no_transform = pd.read_csv(\"../../data/processed/train_dataset_formatted_no_missing.csv\")\n",
    "\n",
    "# === 2. Split features and label ===\n",
    "X_no_transform = df_no_transform.drop(columns=[\"label\", \"longitude\", \"latitude\"])\n",
    "y_no_transform = df_no_transform[\"label\"]\n",
    "\n",
    "# === 3. Train / Validation / Test split ===\n",
    "# First split train_val and test (e.g. 80% train_val, 20% test)\n",
    "X_train_val_no_transform, X_test_no_transform, y_train_val_no_transform, y_test_no_transform = train_test_split(\n",
    "    X_no_transform, y_no_transform, test_size=0.2, random_state=42, stratify=y_no_transform\n",
    ")\n",
    "\n",
    "# Then split train and val (e.g. 75% train, 25% val → overall 60/20/20)\n",
    "X_train_val_no_transform, X_val_no_transform, y_train_no_transform, y_val_no_transform = train_test_split(\n",
    "    X_train_val_no_transform, y_train_val_no_transform, test_size=0.25, random_state=42, stratify=y_train_val_no_transform\n",
    ")\n",
    "\n",
    "# Print shape summary\n",
    "print(\"Train:\", X_train_val_no_transform.shape)\n",
    "print(\"Validation:\", X_val_no_transform.shape)\n",
    "print(\"Test:\", X_test_no_transform.shape)\n",
    "\n",
    "# === 4. Save to disk ===\n",
    "X_train_val_no_transform.to_csv(\"../../data/processed/no_transformed/X_train_no_transform.csv\", index=False)\n",
    "X_val_no_transform.to_csv(\"../../data/processed/no_transformed/X_val_no_transform.csv\", index=False)\n",
    "X_test_no_transform.to_csv(\"../../data/processed/no_transformed/X_test_no_transform.csv\", index=False)\n",
    "\n",
    "y_train_no_transform.to_csv(\"../../data/processed/no_transformed/y_train_no_transform.csv\", index=False)\n",
    "y_val_no_transform.to_csv(\"../../data/processed/no_transformed/y_val_no_transform.csv\", index=False)\n",
    "y_test_no_transform.to_csv(\"../../data/processed/no_transformed/y_test_no_transform.csv\", index=False)\n",
    "\n",
    "print(\"Train/Validation/Test datasets with no transformation saved.\")\n"
   ]
  },
  {
   "cell_type": "code",
   "execution_count": 2,
   "metadata": {},
   "outputs": [
    {
     "name": "stdout",
     "output_type": "stream",
     "text": [
      "Train: (2951, 19)\n",
      "Validation: (984, 19)\n",
      "Test: (984, 19)\n",
      "Train/Validation/Test datasets with log1p transformation saved.\n"
     ]
    }
   ],
   "source": [
    "import pandas as pd\n",
    "from sklearn.model_selection import train_test_split\n",
    "\n",
    "# === 1. Load formatted input data ===\n",
    "df_transform = pd.read_csv(\"../../data/processed/train_dataset_log1p_transformed.csv\")\n",
    "\n",
    "# === 2. Split features and label ===\n",
    "X_transform = df_transform.drop(columns=[\"label\", \"longitude\", \"latitude\"])\n",
    "y_transform = df_transform[\"label\"]\n",
    "\n",
    "# === 3. Train / Validation / Test split ===\n",
    "# First split train_val and test (e.g. 80% train_val, 20% test)\n",
    "X_train_val_transform, X_test_transform, y_train_val_transform, y_test_transform = train_test_split(\n",
    "    X_transform, y_transform, test_size=0.2, random_state=42, stratify=y_transform\n",
    ")\n",
    "\n",
    "# Then split train and val (e.g. 75% train, 25% val → overall 60/20/20)\n",
    "X_train_val_transform, X_val_transform, y_train_transform, y_val_transform = train_test_split(\n",
    "    X_train_val_transform, y_train_val_transform, test_size=0.25, random_state=42, stratify=y_train_val_transform\n",
    ")\n",
    "\n",
    "# Print shape summary\n",
    "print(\"Train:\", X_train_val_transform.shape)\n",
    "print(\"Validation:\", X_val_transform.shape)\n",
    "print(\"Test:\", X_test_transform.shape)\n",
    "\n",
    "# === 4. Save to disk ===\n",
    "X_train_val_transform.to_csv(\"../../data/processed/transformed/X_train_transform.csv\", index=False)\n",
    "X_val_transform.to_csv(\"../../data/processed/transformed/X_val_transform.csv\", index=False)\n",
    "X_test_transform.to_csv(\"../../data/processed/transformed/X_test_transform.csv\", index=False)\n",
    "\n",
    "y_train_transform.to_csv(\"../../data/processed/transformed/y_train_transform.csv\", index=False)\n",
    "y_val_transform.to_csv(\"../../data/processed/transformed/y_val_transform.csv\", index=False)\n",
    "y_test_transform.to_csv(\"../../data/processed/transformed/y_test_transform.csv\", index=False)\n",
    "\n",
    "print(\"Train/Validation/Test datasets with log1p transformation saved.\")\n"
   ]
  }
 ],
 "metadata": {
  "kernelspec": {
   "display_name": "geoenv",
   "language": "python",
   "name": "python3"
  },
  "language_info": {
   "codemirror_mode": {
    "name": "ipython",
    "version": 3
   },
   "file_extension": ".py",
   "mimetype": "text/x-python",
   "name": "python",
   "nbconvert_exporter": "python",
   "pygments_lexer": "ipython3",
   "version": "3.10.6"
  }
 },
 "nbformat": 4,
 "nbformat_minor": 2
}
