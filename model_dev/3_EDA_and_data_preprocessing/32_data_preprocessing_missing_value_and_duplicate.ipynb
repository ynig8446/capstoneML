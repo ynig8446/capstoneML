{
 "cells": [
  {
   "cell_type": "code",
   "execution_count": 13,
   "metadata": {},
   "outputs": [
    {
     "data": {
      "text/html": [
       "<div>\n",
       "<style scoped>\n",
       "    .dataframe tbody tr th:only-of-type {\n",
       "        vertical-align: middle;\n",
       "    }\n",
       "\n",
       "    .dataframe tbody tr th {\n",
       "        vertical-align: top;\n",
       "    }\n",
       "\n",
       "    .dataframe thead th {\n",
       "        text-align: right;\n",
       "    }\n",
       "</style>\n",
       "<table border=\"1\" class=\"dataframe\">\n",
       "  <thead>\n",
       "    <tr style=\"text-align: right;\">\n",
       "      <th></th>\n",
       "      <th>longitude</th>\n",
       "      <th>latitude</th>\n",
       "      <th>label</th>\n",
       "      <th>gravity_iso_residual</th>\n",
       "      <th>gravity_cscba</th>\n",
       "      <th>gravity_cscba_1vd</th>\n",
       "      <th>gravity_iso_residual_stddev3x3</th>\n",
       "      <th>gravity_cscba_stddev3x3</th>\n",
       "      <th>mag_uc_1_2km</th>\n",
       "      <th>mag_uc_2_4km</th>\n",
       "      <th>...</th>\n",
       "      <th>mag_uc_12_16km</th>\n",
       "      <th>mag_uc_2_4km_1vd</th>\n",
       "      <th>mag_uc_2_4km_thd</th>\n",
       "      <th>mag_uc_2_4km_stddev3x3</th>\n",
       "      <th>radio_k_pct</th>\n",
       "      <th>radio_th_ppm</th>\n",
       "      <th>radio_u_ppm</th>\n",
       "      <th>radio_th_k_ratio</th>\n",
       "      <th>radio_u_k_ratio</th>\n",
       "      <th>radio_u_th_ratio</th>\n",
       "    </tr>\n",
       "  </thead>\n",
       "  <tbody>\n",
       "    <tr>\n",
       "      <th>0</th>\n",
       "      <td>145.277695</td>\n",
       "      <td>-34.107134</td>\n",
       "      <td>0</td>\n",
       "      <td>52.223591</td>\n",
       "      <td>349.392853</td>\n",
       "      <td>-40.59006</td>\n",
       "      <td>0.752113</td>\n",
       "      <td>37.011612</td>\n",
       "      <td>0.584576</td>\n",
       "      <td>0.992970</td>\n",
       "      <td>...</td>\n",
       "      <td>1.204403</td>\n",
       "      <td>-0.000780</td>\n",
       "      <td>0.001489</td>\n",
       "      <td>0.038044</td>\n",
       "      <td>1.104598</td>\n",
       "      <td>10.030174</td>\n",
       "      <td>1.367533</td>\n",
       "      <td>9.082856</td>\n",
       "      <td>1.238717</td>\n",
       "      <td>0.136452</td>\n",
       "    </tr>\n",
       "    <tr>\n",
       "      <th>1</th>\n",
       "      <td>125.714108</td>\n",
       "      <td>-23.943929</td>\n",
       "      <td>0</td>\n",
       "      <td>-195.990967</td>\n",
       "      <td>-534.088440</td>\n",
       "      <td>-556.97266</td>\n",
       "      <td>2.474874</td>\n",
       "      <td>47.704494</td>\n",
       "      <td>3.931087</td>\n",
       "      <td>5.403521</td>\n",
       "      <td>...</td>\n",
       "      <td>-0.071080</td>\n",
       "      <td>-0.013591</td>\n",
       "      <td>0.021547</td>\n",
       "      <td>0.549094</td>\n",
       "      <td>0.158148</td>\n",
       "      <td>15.495625</td>\n",
       "      <td>1.302552</td>\n",
       "      <td>77.478119</td>\n",
       "      <td>6.512759</td>\n",
       "      <td>0.084177</td>\n",
       "    </tr>\n",
       "    <tr>\n",
       "      <th>2</th>\n",
       "      <td>148.821727</td>\n",
       "      <td>-21.846854</td>\n",
       "      <td>1</td>\n",
       "      <td>376.498871</td>\n",
       "      <td>-531.526184</td>\n",
       "      <td>198.01955</td>\n",
       "      <td>0.918559</td>\n",
       "      <td>46.138040</td>\n",
       "      <td>-15.808146</td>\n",
       "      <td>0.000513</td>\n",
       "      <td>...</td>\n",
       "      <td>-2.160016</td>\n",
       "      <td>-0.091868</td>\n",
       "      <td>0.096375</td>\n",
       "      <td>2.462595</td>\n",
       "      <td>0.327474</td>\n",
       "      <td>3.212502</td>\n",
       "      <td>0.507891</td>\n",
       "      <td>9.933004</td>\n",
       "      <td>1.592497</td>\n",
       "      <td>0.159617</td>\n",
       "    </tr>\n",
       "    <tr>\n",
       "      <th>3</th>\n",
       "      <td>134.851273</td>\n",
       "      <td>-19.145144</td>\n",
       "      <td>0</td>\n",
       "      <td>10.045643</td>\n",
       "      <td>-709.562378</td>\n",
       "      <td>-201.86922</td>\n",
       "      <td>1.362985</td>\n",
       "      <td>60.546470</td>\n",
       "      <td>-12.336065</td>\n",
       "      <td>-17.813541</td>\n",
       "      <td>...</td>\n",
       "      <td>-10.113371</td>\n",
       "      <td>0.025990</td>\n",
       "      <td>0.028927</td>\n",
       "      <td>0.738085</td>\n",
       "      <td>0.281605</td>\n",
       "      <td>7.375026</td>\n",
       "      <td>0.806524</td>\n",
       "      <td>26.118765</td>\n",
       "      <td>2.877724</td>\n",
       "      <td>0.111031</td>\n",
       "    </tr>\n",
       "    <tr>\n",
       "      <th>4</th>\n",
       "      <td>142.587968</td>\n",
       "      <td>-28.984738</td>\n",
       "      <td>0</td>\n",
       "      <td>-34.105846</td>\n",
       "      <td>114.804726</td>\n",
       "      <td>-124.66106</td>\n",
       "      <td>2.218750</td>\n",
       "      <td>87.284930</td>\n",
       "      <td>-2.577452</td>\n",
       "      <td>-4.013026</td>\n",
       "      <td>...</td>\n",
       "      <td>-2.264580</td>\n",
       "      <td>-0.006811</td>\n",
       "      <td>0.014678</td>\n",
       "      <td>0.374207</td>\n",
       "      <td>0.442369</td>\n",
       "      <td>3.287470</td>\n",
       "      <td>0.641557</td>\n",
       "      <td>7.432631</td>\n",
       "      <td>1.465061</td>\n",
       "      <td>0.198236</td>\n",
       "    </tr>\n",
       "  </tbody>\n",
       "</table>\n",
       "<p>5 rows × 22 columns</p>\n",
       "</div>"
      ],
      "text/plain": [
       "    longitude   latitude  label  gravity_iso_residual  gravity_cscba  \\\n",
       "0  145.277695 -34.107134      0             52.223591     349.392853   \n",
       "1  125.714108 -23.943929      0           -195.990967    -534.088440   \n",
       "2  148.821727 -21.846854      1            376.498871    -531.526184   \n",
       "3  134.851273 -19.145144      0             10.045643    -709.562378   \n",
       "4  142.587968 -28.984738      0            -34.105846     114.804726   \n",
       "\n",
       "   gravity_cscba_1vd  gravity_iso_residual_stddev3x3  gravity_cscba_stddev3x3  \\\n",
       "0          -40.59006                        0.752113                37.011612   \n",
       "1         -556.97266                        2.474874                47.704494   \n",
       "2          198.01955                        0.918559                46.138040   \n",
       "3         -201.86922                        1.362985                60.546470   \n",
       "4         -124.66106                        2.218750                87.284930   \n",
       "\n",
       "   mag_uc_1_2km  mag_uc_2_4km  ...  mag_uc_12_16km  mag_uc_2_4km_1vd  \\\n",
       "0      0.584576      0.992970  ...        1.204403         -0.000780   \n",
       "1      3.931087      5.403521  ...       -0.071080         -0.013591   \n",
       "2    -15.808146      0.000513  ...       -2.160016         -0.091868   \n",
       "3    -12.336065    -17.813541  ...      -10.113371          0.025990   \n",
       "4     -2.577452     -4.013026  ...       -2.264580         -0.006811   \n",
       "\n",
       "   mag_uc_2_4km_thd  mag_uc_2_4km_stddev3x3  radio_k_pct  radio_th_ppm  \\\n",
       "0          0.001489                0.038044     1.104598     10.030174   \n",
       "1          0.021547                0.549094     0.158148     15.495625   \n",
       "2          0.096375                2.462595     0.327474      3.212502   \n",
       "3          0.028927                0.738085     0.281605      7.375026   \n",
       "4          0.014678                0.374207     0.442369      3.287470   \n",
       "\n",
       "   radio_u_ppm  radio_th_k_ratio  radio_u_k_ratio  radio_u_th_ratio  \n",
       "0     1.367533          9.082856         1.238717          0.136452  \n",
       "1     1.302552         77.478119         6.512759          0.084177  \n",
       "2     0.507891          9.933004         1.592497          0.159617  \n",
       "3     0.806524         26.118765         2.877724          0.111031  \n",
       "4     0.641557          7.432631         1.465061          0.198236  \n",
       "\n",
       "[5 rows x 22 columns]"
      ]
     },
     "execution_count": 13,
     "metadata": {},
     "output_type": "execute_result"
    }
   ],
   "source": [
    "import pandas as pd\n",
    "\n",
    "# Load formatted dataset from previous step\n",
    "df = pd.read_csv(\"../../data/processed/train_dataset_formatted.csv\")\n",
    "df.head()"
   ]
  },
  {
   "cell_type": "markdown",
   "metadata": {},
   "source": [
    "## 1.Missing Values Summary\n",
    "Radiometric features such as radio_k_pct, radio_th_ppm, radio_u_ppm, and derived ratios show ~3% missing values, Gravity feature, gravity_iso_residual show ~0.3% missing values. Other geophysical features are complete."
   ]
  },
  {
   "cell_type": "code",
   "execution_count": 14,
   "metadata": {},
   "outputs": [
    {
     "name": "stdout",
     "output_type": "stream",
     "text": [
      "Missing Values Summary:\n"
     ]
    },
    {
     "data": {
      "text/plain": [
       "radio_k_pct             229\n",
       "radio_th_ppm            229\n",
       "radio_u_ppm             229\n",
       "radio_th_k_ratio        229\n",
       "radio_u_k_ratio         229\n",
       "radio_u_th_ratio        229\n",
       "gravity_iso_residual      6\n",
       "gravity_cscba             1\n",
       "dtype: int64"
      ]
     },
     "metadata": {},
     "output_type": "display_data"
    },
    {
     "name": "stdout",
     "output_type": "stream",
     "text": [
      "Missing Value Percentage (%):\n"
     ]
    },
    {
     "data": {
      "text/plain": [
       "radio_k_pct             4.645973\n",
       "radio_th_ppm            4.645973\n",
       "radio_u_ppm             4.645973\n",
       "radio_th_k_ratio        4.645973\n",
       "radio_u_k_ratio         4.645973\n",
       "radio_u_th_ratio        4.645973\n",
       "gravity_iso_residual    0.121729\n",
       "gravity_cscba           0.020288\n",
       "dtype: float64"
      ]
     },
     "metadata": {},
     "output_type": "display_data"
    }
   ],
   "source": [
    "# Count missing values for each column\n",
    "missing_summary = df.isnull().sum()\n",
    "missing_summary = missing_summary[missing_summary > 0].sort_values(ascending=False)\n",
    "\n",
    "print(\"Missing Values Summary:\")\n",
    "display(missing_summary)\n",
    "\n",
    "# Show percentage for easier interpretation\n",
    "missing_pct = (df.isnull().sum() / len(df)) * 100\n",
    "print(\"Missing Value Percentage (%):\")\n",
    "display(missing_pct[missing_pct > 0].sort_values(ascending=False))"
   ]
  },
  {
   "cell_type": "markdown",
   "metadata": {},
   "source": [
    "## 2. Missing Value Imputation Strategy"
   ]
  },
  {
   "cell_type": "code",
   "execution_count": 16,
   "metadata": {},
   "outputs": [
    {
     "name": "stdout",
     "output_type": "stream",
     "text": [
      "Applied group-wise median imputation by source.\n"
     ]
    }
   ],
   "source": [
    "# List of features to impute (with missing values)\n",
    "radiometric_features = [\n",
    "    'radio_k_pct', 'radio_th_ppm', 'radio_u_ppm',\n",
    "    'radio_th_k_ratio', 'radio_u_k_ratio', 'radio_u_th_ratio'\n",
    "]\n",
    "\n",
    "gravity_features = ['gravity_iso_residual', 'gravity_cscba']\n",
    "\n",
    "magnetic_features = ['mag_uc_1_2km', 'mag_uc_2_4km', 'mag_uc_4_8km', 'mag_uc_8_12km', 'mag_uc_12_16km']\n",
    "\n",
    "for col in radiometric_features + gravity_features + magnetic_features:\n",
    "    df[col] = df.groupby('label')[col].transform(lambda x: x.fillna(x.median()))\n",
    "print(\"Applied group-wise median imputation by source.\")\n"
   ]
  },
  {
   "cell_type": "code",
   "execution_count": 17,
   "metadata": {},
   "outputs": [
    {
     "name": "stdout",
     "output_type": "stream",
     "text": [
      "Remaining missing values:\n"
     ]
    },
    {
     "data": {
      "text/plain": [
       "Series([], dtype: int64)"
      ]
     },
     "metadata": {},
     "output_type": "display_data"
    }
   ],
   "source": [
    "# Recheck missing values after imputation\n",
    "remaining_missing = df.isnull().sum()\n",
    "print(\"Remaining missing values:\")\n",
    "display(remaining_missing[remaining_missing > 0])"
   ]
  },
  {
   "cell_type": "markdown",
   "metadata": {},
   "source": [
    "## 3.Delete Duplicate Values"
   ]
  },
  {
   "cell_type": "code",
   "execution_count": 18,
   "metadata": {},
   "outputs": [
    {
     "name": "stdout",
     "output_type": "stream",
     "text": [
      "Duplicate rows before drop: 10\n",
      "Duplicate rows after drop: 0\n"
     ]
    }
   ],
   "source": [
    "print(f\"Duplicate rows before drop: {df.duplicated().sum()}\")\n",
    "df = df.drop_duplicates()\n",
    "print(f\"Duplicate rows after drop: {df.duplicated().sum()}\")"
   ]
  },
  {
   "cell_type": "code",
   "execution_count": 19,
   "metadata": {},
   "outputs": [
    {
     "name": "stdout",
     "output_type": "stream",
     "text": [
      "Cleaned dataset saved to 'train_dataset_formatted_no_missing.csv'\n"
     ]
    }
   ],
   "source": [
    "df.to_csv(\"../../data/processed/train_dataset_formatted_no_missing.csv\", index=False)\n",
    "print(\"Cleaned dataset saved to 'train_dataset_formatted_no_missing.csv'\")"
   ]
  },
  {
   "cell_type": "markdown",
   "metadata": {},
   "source": [
    "## Missing Value Handling Summary\n",
    "\n",
    "- **Columns affected**: Radiometric element concentrations and ratios, gravity_iso_residual, and magnetic features.\n",
    "- **Imputation method used**: Median imputation.\n",
    "  - Chosen because these features are highly skewed and contain physical/geochemical measurement values.\n",
    "  - Median is robust to outliers and preserves distributional integrity.\n",
    "- **Validation**: All missing values resolved after imputation.\n",
    "- **Domain Justification**: Radiometric values are spatially interpolated from field measurements. Median preserves range while avoiding overfitting to extreme anomalies.\n"
   ]
  }
 ],
 "metadata": {
  "kernelspec": {
   "display_name": "geoenv",
   "language": "python",
   "name": "python3"
  },
  "language_info": {
   "codemirror_mode": {
    "name": "ipython",
    "version": 3
   },
   "file_extension": ".py",
   "mimetype": "text/x-python",
   "name": "python",
   "nbconvert_exporter": "python",
   "pygments_lexer": "ipython3",
   "version": "3.10.6"
  }
 },
 "nbformat": 4,
 "nbformat_minor": 2
}
